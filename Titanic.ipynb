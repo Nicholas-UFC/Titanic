{
 "cells": [
  {
   "cell_type": "markdown",
   "id": "f04134ad",
   "metadata": {},
   "source": [
    "### Bibliotecas"
   ]
  },
  {
   "cell_type": "code",
   "execution_count": 358,
   "id": "e5b8a24f",
   "metadata": {},
   "outputs": [],
   "source": [
    "import pandas as pd\n",
    "import numpy as np\n",
    "import seaborn as sns\n",
    "import matplotlib.pyplot as plt\n",
    "from sklearn.model_selection import train_test_split\n",
    "from sklearn.preprocessing import StandardScaler"
   ]
  },
  {
   "cell_type": "markdown",
   "id": "e61b1b79",
   "metadata": {},
   "source": [
    "### Dataset"
   ]
  },
  {
   "cell_type": "code",
   "execution_count": null,
   "id": "59a9cfca",
   "metadata": {},
   "outputs": [],
   "source": [
    "#Carregar o dataset Titanic\n",
    "df_train = pd.read_csv(r'C:\\Python\\Titanic\\train.csv')"
   ]
  },
  {
   "cell_type": "code",
   "execution_count": null,
   "id": "a15da95a",
   "metadata": {},
   "outputs": [
    {
     "name": "stdout",
     "output_type": "stream",
     "text": [
      "   PassengerId  Survived  Pclass  \\\n",
      "0            1         0       3   \n",
      "1            2         1       1   \n",
      "2            3         1       3   \n",
      "3            4         1       1   \n",
      "4            5         0       3   \n",
      "\n",
      "                                                Name     Sex   Age  SibSp  \\\n",
      "0                            Braund, Mr. Owen Harris    male  22.0      1   \n",
      "1  Cumings, Mrs. John Bradley (Florence Briggs Th...  female  38.0      1   \n",
      "2                             Heikkinen, Miss. Laina  female  26.0      0   \n",
      "3       Futrelle, Mrs. Jacques Heath (Lily May Peel)  female  35.0      1   \n",
      "4                           Allen, Mr. William Henry    male  35.0      0   \n",
      "\n",
      "   Parch            Ticket     Fare Cabin Embarked  \n",
      "0      0         A/5 21171   7.2500   NaN        S  \n",
      "1      0          PC 17599  71.2833   C85        C  \n",
      "2      0  STON/O2. 3101282   7.9250   NaN        S  \n",
      "3      0            113803  53.1000  C123        S  \n",
      "4      0            373450   8.0500   NaN        S  \n"
     ]
    }
   ],
   "source": [
    "# Exibir as 5 primeiras linhas do dataset\n",
    "print(df_train.head())"
   ]
  },
  {
   "cell_type": "code",
   "execution_count": null,
   "id": "b201d7bc",
   "metadata": {},
   "outputs": [
    {
     "name": "stdout",
     "output_type": "stream",
     "text": [
      "<class 'pandas.core.frame.DataFrame'>\n",
      "RangeIndex: 891 entries, 0 to 890\n",
      "Data columns (total 12 columns):\n",
      " #   Column       Non-Null Count  Dtype  \n",
      "---  ------       --------------  -----  \n",
      " 0   PassengerId  891 non-null    int64  \n",
      " 1   Survived     891 non-null    int64  \n",
      " 2   Pclass       891 non-null    int64  \n",
      " 3   Name         891 non-null    object \n",
      " 4   Sex          891 non-null    object \n",
      " 5   Age          714 non-null    float64\n",
      " 6   SibSp        891 non-null    int64  \n",
      " 7   Parch        891 non-null    int64  \n",
      " 8   Ticket       891 non-null    object \n",
      " 9   Fare         891 non-null    float64\n",
      " 10  Cabin        204 non-null    object \n",
      " 11  Embarked     889 non-null    object \n",
      "dtypes: float64(2), int64(5), object(5)\n",
      "memory usage: 83.7+ KB\n",
      "None\n"
     ]
    }
   ],
   "source": [
    "# Exibir informações gerais sobre o DataFrame\n",
    "print(df_train.info())"
   ]
  },
  {
   "cell_type": "code",
   "execution_count": null,
   "id": "7e7496a1",
   "metadata": {},
   "outputs": [
    {
     "data": {
      "text/html": [
       "<div>\n",
       "<style scoped>\n",
       "    .dataframe tbody tr th:only-of-type {\n",
       "        vertical-align: middle;\n",
       "    }\n",
       "\n",
       "    .dataframe tbody tr th {\n",
       "        vertical-align: top;\n",
       "    }\n",
       "\n",
       "    .dataframe thead th {\n",
       "        text-align: right;\n",
       "    }\n",
       "</style>\n",
       "<table border=\"1\" class=\"dataframe\">\n",
       "  <thead>\n",
       "    <tr style=\"text-align: right;\">\n",
       "      <th></th>\n",
       "      <th>PassengerId</th>\n",
       "      <th>Survived</th>\n",
       "      <th>Pclass</th>\n",
       "      <th>Age</th>\n",
       "      <th>SibSp</th>\n",
       "      <th>Parch</th>\n",
       "      <th>Fare</th>\n",
       "    </tr>\n",
       "  </thead>\n",
       "  <tbody>\n",
       "    <tr>\n",
       "      <th>count</th>\n",
       "      <td>891.000000</td>\n",
       "      <td>891.000000</td>\n",
       "      <td>891.000000</td>\n",
       "      <td>714.000000</td>\n",
       "      <td>891.000000</td>\n",
       "      <td>891.000000</td>\n",
       "      <td>891.000000</td>\n",
       "    </tr>\n",
       "    <tr>\n",
       "      <th>mean</th>\n",
       "      <td>446.000000</td>\n",
       "      <td>0.383838</td>\n",
       "      <td>2.308642</td>\n",
       "      <td>29.699118</td>\n",
       "      <td>0.523008</td>\n",
       "      <td>0.381594</td>\n",
       "      <td>32.204208</td>\n",
       "    </tr>\n",
       "    <tr>\n",
       "      <th>std</th>\n",
       "      <td>257.353842</td>\n",
       "      <td>0.486592</td>\n",
       "      <td>0.836071</td>\n",
       "      <td>14.526497</td>\n",
       "      <td>1.102743</td>\n",
       "      <td>0.806057</td>\n",
       "      <td>49.693429</td>\n",
       "    </tr>\n",
       "    <tr>\n",
       "      <th>min</th>\n",
       "      <td>1.000000</td>\n",
       "      <td>0.000000</td>\n",
       "      <td>1.000000</td>\n",
       "      <td>0.420000</td>\n",
       "      <td>0.000000</td>\n",
       "      <td>0.000000</td>\n",
       "      <td>0.000000</td>\n",
       "    </tr>\n",
       "    <tr>\n",
       "      <th>25%</th>\n",
       "      <td>223.500000</td>\n",
       "      <td>0.000000</td>\n",
       "      <td>2.000000</td>\n",
       "      <td>20.125000</td>\n",
       "      <td>0.000000</td>\n",
       "      <td>0.000000</td>\n",
       "      <td>7.910400</td>\n",
       "    </tr>\n",
       "    <tr>\n",
       "      <th>50%</th>\n",
       "      <td>446.000000</td>\n",
       "      <td>0.000000</td>\n",
       "      <td>3.000000</td>\n",
       "      <td>28.000000</td>\n",
       "      <td>0.000000</td>\n",
       "      <td>0.000000</td>\n",
       "      <td>14.454200</td>\n",
       "    </tr>\n",
       "    <tr>\n",
       "      <th>75%</th>\n",
       "      <td>668.500000</td>\n",
       "      <td>1.000000</td>\n",
       "      <td>3.000000</td>\n",
       "      <td>38.000000</td>\n",
       "      <td>1.000000</td>\n",
       "      <td>0.000000</td>\n",
       "      <td>31.000000</td>\n",
       "    </tr>\n",
       "    <tr>\n",
       "      <th>max</th>\n",
       "      <td>891.000000</td>\n",
       "      <td>1.000000</td>\n",
       "      <td>3.000000</td>\n",
       "      <td>80.000000</td>\n",
       "      <td>8.000000</td>\n",
       "      <td>6.000000</td>\n",
       "      <td>512.329200</td>\n",
       "    </tr>\n",
       "  </tbody>\n",
       "</table>\n",
       "</div>"
      ],
      "text/plain": [
       "       PassengerId    Survived      Pclass         Age       SibSp  \\\n",
       "count   891.000000  891.000000  891.000000  714.000000  891.000000   \n",
       "mean    446.000000    0.383838    2.308642   29.699118    0.523008   \n",
       "std     257.353842    0.486592    0.836071   14.526497    1.102743   \n",
       "min       1.000000    0.000000    1.000000    0.420000    0.000000   \n",
       "25%     223.500000    0.000000    2.000000   20.125000    0.000000   \n",
       "50%     446.000000    0.000000    3.000000   28.000000    0.000000   \n",
       "75%     668.500000    1.000000    3.000000   38.000000    1.000000   \n",
       "max     891.000000    1.000000    3.000000   80.000000    8.000000   \n",
       "\n",
       "            Parch        Fare  \n",
       "count  891.000000  891.000000  \n",
       "mean     0.381594   32.204208  \n",
       "std      0.806057   49.693429  \n",
       "min      0.000000    0.000000  \n",
       "25%      0.000000    7.910400  \n",
       "50%      0.000000   14.454200  \n",
       "75%      0.000000   31.000000  \n",
       "max      6.000000  512.329200  "
      ]
     },
     "execution_count": 316,
     "metadata": {},
     "output_type": "execute_result"
    }
   ],
   "source": [
    "# Exibir estatísticas descritivas para as colunas numéricas\n",
    "df_train.describe()"
   ]
  },
  {
   "cell_type": "code",
   "execution_count": null,
   "id": "8f513994",
   "metadata": {},
   "outputs": [
    {
     "name": "stdout",
     "output_type": "stream",
     "text": [
      "PassengerId      0\n",
      "Survived         0\n",
      "Pclass           0\n",
      "Name             0\n",
      "Sex              0\n",
      "Age            177\n",
      "SibSp            0\n",
      "Parch            0\n",
      "Ticket           0\n",
      "Fare             0\n",
      "Cabin          687\n",
      "Embarked         2\n",
      "dtype: int64\n"
     ]
    }
   ],
   "source": [
    "# Contar valores ausentes por coluna\n",
    "print(df_train.isnull().sum())"
   ]
  },
  {
   "cell_type": "code",
   "execution_count": null,
   "id": "f21aec46",
   "metadata": {},
   "outputs": [
    {
     "name": "stdout",
     "output_type": "stream",
     "text": [
      "Quantidade de sobreviventes: Survived\n",
      "0    0.616162\n",
      "1    0.383838\n",
      "Name: proportion, dtype: float64\n"
     ]
    }
   ],
   "source": [
    "# Quantidade de sobreviventes\n",
    "print(\"Quantidade de sobreviventes:\", df_train['Survived'].value_counts(normalize=True))\n"
   ]
  },
  {
   "cell_type": "code",
   "execution_count": null,
   "id": "fb501f63",
   "metadata": {},
   "outputs": [
    {
     "data": {
      "text/plain": [
       "PassengerId      0\n",
       "Survived         0\n",
       "Pclass           0\n",
       "Name             0\n",
       "Sex              0\n",
       "Age            177\n",
       "SibSp            0\n",
       "Parch            0\n",
       "Ticket           0\n",
       "Fare             0\n",
       "Cabin          687\n",
       "Embarked         2\n",
       "dtype: int64"
      ]
     },
     "execution_count": 319,
     "metadata": {},
     "output_type": "execute_result"
    }
   ],
   "source": [
    "# Exibir a quantidade de valores ausentes por coluna\n",
    "df_train.isnull().sum()"
   ]
  },
  {
   "cell_type": "markdown",
   "id": "8f7d9707",
   "metadata": {},
   "source": [
    "### Tratamento dos Dados"
   ]
  },
  {
   "cell_type": "code",
   "execution_count": null,
   "id": "6675e2c5",
   "metadata": {},
   "outputs": [
    {
     "name": "stdout",
     "output_type": "stream",
     "text": [
      "   PassengerId  Survived  Pclass  \\\n",
      "0            1         0       3   \n",
      "1            2         1       1   \n",
      "2            3         1       3   \n",
      "3            4         1       1   \n",
      "4            5         0       3   \n",
      "\n",
      "                                                Name     Sex   Age  SibSp  \\\n",
      "0                            Braund, Mr. Owen Harris    male  22.0      1   \n",
      "1  Cumings, Mrs. John Bradley (Florence Briggs Th...  female  38.0      1   \n",
      "2                             Heikkinen, Miss. Laina  female  26.0      0   \n",
      "3       Futrelle, Mrs. Jacques Heath (Lily May Peel)  female  35.0      1   \n",
      "4                           Allen, Mr. William Henry    male  35.0      0   \n",
      "\n",
      "   Parch            Ticket     Fare Embarked  \n",
      "0      0         A/5 21171   7.2500        S  \n",
      "1      0          PC 17599  71.2833        C  \n",
      "2      0  STON/O2. 3101282   7.9250        S  \n",
      "3      0            113803  53.1000        S  \n",
      "4      0            373450   8.0500        S  \n",
      "<class 'pandas.core.frame.DataFrame'>\n",
      "RangeIndex: 891 entries, 0 to 890\n",
      "Data columns (total 11 columns):\n",
      " #   Column       Non-Null Count  Dtype  \n",
      "---  ------       --------------  -----  \n",
      " 0   PassengerId  891 non-null    int64  \n",
      " 1   Survived     891 non-null    int64  \n",
      " 2   Pclass       891 non-null    int64  \n",
      " 3   Name         891 non-null    object \n",
      " 4   Sex          891 non-null    object \n",
      " 5   Age          714 non-null    float64\n",
      " 6   SibSp        891 non-null    int64  \n",
      " 7   Parch        891 non-null    int64  \n",
      " 8   Ticket       891 non-null    object \n",
      " 9   Fare         891 non-null    float64\n",
      " 10  Embarked     889 non-null    object \n",
      "dtypes: float64(2), int64(5), object(4)\n",
      "memory usage: 76.7+ KB\n",
      "None\n"
     ]
    }
   ],
   "source": [
    "# Excluir a coluna 'Cabin'\n",
    "df_train.drop('Cabin', axis=1, inplace=True)\n",
    "\n",
    "# Exibir a novo dataset\n",
    "print(df_train.head())\n",
    "print(df_train.info())"
   ]
  },
  {
   "cell_type": "code",
   "execution_count": null,
   "id": "263f5871",
   "metadata": {},
   "outputs": [
    {
     "name": "stdout",
     "output_type": "stream",
     "text": [
      "A moda da coluna 'Embarked' é: S\n",
      "\n",
      "Contagem de valores ausentes após preencher 'Embarked':\n",
      "PassengerId      0\n",
      "Survived         0\n",
      "Pclass           0\n",
      "Name             0\n",
      "Sex              0\n",
      "Age            177\n",
      "SibSp            0\n",
      "Parch            0\n",
      "Ticket           0\n",
      "Fare             0\n",
      "Embarked         0\n",
      "dtype: int64\n"
     ]
    },
    {
     "name": "stderr",
     "output_type": "stream",
     "text": [
      "C:\\Users\\NVME\\AppData\\Local\\Temp\\ipykernel_308\\2126310383.py:7: FutureWarning: A value is trying to be set on a copy of a DataFrame or Series through chained assignment using an inplace method.\n",
      "The behavior will change in pandas 3.0. This inplace method will never work because the intermediate object on which we are setting values always behaves as a copy.\n",
      "\n",
      "For example, when doing 'df[col].method(value, inplace=True)', try using 'df.method({col: value}, inplace=True)' or df[col] = df[col].method(value) instead, to perform the operation inplace on the original object.\n",
      "\n",
      "\n",
      "  df_train['Embarked'].fillna(moda_embarked, inplace=True)\n"
     ]
    }
   ],
   "source": [
    "# Resolvendo o problema de valores ausentes na coluna 'Embarked'\n",
    "# 1. Calcular a moda da coluna 'Embarked'\n",
    "moda_embarked = df_train['Embarked'].mode()[0] # [0] para pegar o primeiro valor se houver múltiplas modas\n",
    "print(f\"A moda da coluna 'Embarked' é: {moda_embarked}\")\n",
    "\n",
    "# 2. Preencher os valores ausentes (NaNs) na coluna 'Embarked' com a moda calculada\n",
    "df_train['Embarked'].fillna(moda_embarked, inplace=True)\n",
    "\n",
    "# 3. Verificar se os valores ausentes foram preenchidos (boa prática)\n",
    "print(\"\\nContagem de valores ausentes após preencher 'Embarked':\")\n",
    "print(df_train.isnull().sum())"
   ]
  },
  {
   "cell_type": "code",
   "execution_count": null,
   "id": "2c31dd97",
   "metadata": {},
   "outputs": [
    {
     "name": "stdout",
     "output_type": "stream",
     "text": [
      "A média da coluna 'Age' é: 29.70\n",
      "A mediana da coluna 'Age' é: 28.00\n"
     ]
    }
   ],
   "source": [
    "# 4. Agora sim, calcular a média da coluna 'Age'\n",
    "media_idade = df_train['Age'].mean()\n",
    "print(f\"A média da coluna 'Age' é: {media_idade:.2f}\")\n",
    "\n",
    "# 5. Calcular a mediana da coluna 'Age'\n",
    "mediana_idade = df_train['Age'].median()\n",
    "print(f\"A mediana da coluna 'Age' é: {mediana_idade:.2f}\")\n"
   ]
  },
  {
   "cell_type": "code",
   "execution_count": null,
   "id": "67f5ddf9",
   "metadata": {},
   "outputs": [
    {
     "name": "stdout",
     "output_type": "stream",
     "text": [
      "\n",
      "Contagem de valores ausentes após preencher 'Age':\n",
      "PassengerId    0\n",
      "Survived       0\n",
      "Pclass         0\n",
      "Name           0\n",
      "Sex            0\n",
      "Age            0\n",
      "SibSp          0\n",
      "Parch          0\n",
      "Ticket         0\n",
      "Fare           0\n",
      "Embarked       0\n",
      "dtype: int64\n"
     ]
    },
    {
     "name": "stderr",
     "output_type": "stream",
     "text": [
      "C:\\Users\\NVME\\AppData\\Local\\Temp\\ipykernel_308\\3576810113.py:3: FutureWarning: A value is trying to be set on a copy of a DataFrame or Series through chained assignment using an inplace method.\n",
      "The behavior will change in pandas 3.0. This inplace method will never work because the intermediate object on which we are setting values always behaves as a copy.\n",
      "\n",
      "For example, when doing 'df[col].method(value, inplace=True)', try using 'df.method({col: value}, inplace=True)' or df[col] = df[col].method(value) instead, to perform the operation inplace on the original object.\n",
      "\n",
      "\n",
      "  df_train['Age'].fillna(mediana_idade, inplace=True)\n"
     ]
    }
   ],
   "source": [
    "# Resolvendo o problema de valores ausentes na coluna 'Age'\n",
    "# 1. Preencher os valores ausentes (NaNs) na coluna 'Age' com a moda calculada\n",
    "df_train['Age'].fillna(mediana_idade, inplace=True)\n",
    "\n",
    "# 2. Verificar se os valores ausentes foram preenchidos (boa prática)\n",
    "print(\"\\nContagem de valores ausentes após preencher 'Age':\")\n",
    "print(df_train.isnull().sum())"
   ]
  },
  {
   "cell_type": "markdown",
   "id": "ca0af554",
   "metadata": {},
   "source": [
    "### Insight Sobre a Relação entre Sexo e Sobreviventes"
   ]
  },
  {
   "cell_type": "code",
   "execution_count": null,
   "id": "823cb0ce",
   "metadata": {},
   "outputs": [
    {
     "name": "stdout",
     "output_type": "stream",
     "text": [
      "Contagem de sobreviventes (1) e não-sobreviventes (0) por Sexo:\n",
      "Sex     Survived\n",
      "female  1           233\n",
      "        0            81\n",
      "male    0           468\n",
      "        1           109\n",
      "Name: count, dtype: int64\n"
     ]
    }
   ],
   "source": [
    "# Calcular a contagem de sobreviventes e não-sobreviventes para cada sexo\n",
    "print(\"Contagem de sobreviventes (1) e não-sobreviventes (0) por Sexo:\")\n",
    "print(df_train.groupby('Sex')['Survived'].value_counts())"
   ]
  },
  {
   "cell_type": "code",
   "execution_count": null,
   "id": "1c1e4f6c",
   "metadata": {},
   "outputs": [
    {
     "name": "stdout",
     "output_type": "stream",
     "text": [
      "\n",
      "Proporção de sobreviventes (1) e não-sobreviventes (0) por Sexo:\n",
      "Sex     Survived\n",
      "female  1           0.742038\n",
      "        0           0.257962\n",
      "male    0           0.811092\n",
      "        1           0.188908\n",
      "Name: proportion, dtype: float64\n"
     ]
    }
   ],
   "source": [
    "# Para ter uma visão mais completa, vamos também calcular a proporção\n",
    "print(\"\\nProporção de sobreviventes (1) e não-sobreviventes (0) por Sexo:\")\n",
    "print(df_train.groupby('Sex')['Survived'].value_counts(normalize=True))"
   ]
  },
  {
   "cell_type": "code",
   "execution_count": null,
   "id": "cfb8e14c",
   "metadata": {},
   "outputs": [
    {
     "name": "stdout",
     "output_type": "stream",
     "text": [
      "Proporção de Mulheres e Homens entre os Sobreviventes:\n",
      "Sex\n",
      "female    0.681287\n",
      "male      0.318713\n",
      "Name: proportion, dtype: float64\n"
     ]
    }
   ],
   "source": [
    "# Vamos calcular a proporção de mulheres e homens DENTRO do grupo de sobreviventes\n",
    "\n",
    "# Filtrar o DataFrame para incluir apenas os sobreviventes\n",
    "survivors_df = df_train[df_train['Survived'] == 1]\n",
    "\n",
    "# Calcular a proporção de sexo dentro do grupo de sobreviventes\n",
    "print(\"Proporção de Mulheres e Homens entre os Sobreviventes:\")\n",
    "print(survivors_df['Sex'].value_counts(normalize=True))"
   ]
  },
  {
   "cell_type": "code",
   "execution_count": null,
   "id": "36e424e4",
   "metadata": {},
   "outputs": [
    {
     "name": "stdout",
     "output_type": "stream",
     "text": [
      "Proporção de Mulheres e Homens entre os não-Sobreviventes:\n",
      "Sex\n",
      "male      0.852459\n",
      "female    0.147541\n",
      "Name: proportion, dtype: float64\n"
     ]
    }
   ],
   "source": [
    "# Vamos calcular a proporção de mulheres e homens DENTRO do grupo de não-sobreviventes\n",
    "\n",
    "# Filtrar o DataFrame para incluir apenas os não-sobreviventes\n",
    "survivors_df = df_train[df_train['Survived'] == 0]\n",
    "\n",
    "# Calcular a proporção de sexo dentro do grupo de não-sobreviventes\n",
    "print(\"Proporção de Mulheres e Homens entre os não-Sobreviventes:\")\n",
    "print(survivors_df['Sex'].value_counts(normalize=True))"
   ]
  },
  {
   "cell_type": "markdown",
   "id": "51c74e96",
   "metadata": {},
   "source": [
    "### Insight Sobre a Relação entre Classe e Sobreviventes"
   ]
  },
  {
   "cell_type": "code",
   "execution_count": null,
   "id": "7d883481",
   "metadata": {},
   "outputs": [
    {
     "name": "stdout",
     "output_type": "stream",
     "text": [
      "Contagem de sobreviventes (1) e não-sobreviventes (0) por Classe:\n",
      "Pclass  Survived\n",
      "1       1           136\n",
      "        0            80\n",
      "2       0            97\n",
      "        1            87\n",
      "3       0           372\n",
      "        1           119\n",
      "Name: count, dtype: int64\n"
     ]
    }
   ],
   "source": [
    "# Calcular a contagem de sobreviventes e não-sobreviventes para cada classe\n",
    "print(\"Contagem de sobreviventes (1) e não-sobreviventes (0) por Classe:\")\n",
    "print(df_train.groupby('Pclass')['Survived'].value_counts())"
   ]
  },
  {
   "cell_type": "code",
   "execution_count": null,
   "id": "42ad4ecd",
   "metadata": {},
   "outputs": [
    {
     "name": "stdout",
     "output_type": "stream",
     "text": [
      "\n",
      "Proporção de sobreviventes (1) e não-sobreviventes (0) por Classe:\n",
      "Pclass  Survived\n",
      "1       1           0.629630\n",
      "        0           0.370370\n",
      "2       0           0.527174\n",
      "        1           0.472826\n",
      "3       0           0.757637\n",
      "        1           0.242363\n",
      "Name: proportion, dtype: float64\n"
     ]
    }
   ],
   "source": [
    "# Para ter uma visão mais completa, vamos também calcular a proporção\n",
    "print(\"\\nProporção de sobreviventes (1) e não-sobreviventes (0) por Classe:\")\n",
    "print(df_train.groupby('Pclass')['Survived'].value_counts(normalize=True))"
   ]
  },
  {
   "cell_type": "code",
   "execution_count": null,
   "id": "0c9883ab",
   "metadata": {},
   "outputs": [
    {
     "name": "stdout",
     "output_type": "stream",
     "text": [
      "Proporção das 3 classes entre os Sobreviventes:\n",
      "Pclass\n",
      "1    0.397661\n",
      "3    0.347953\n",
      "2    0.254386\n",
      "Name: proportion, dtype: float64\n"
     ]
    }
   ],
   "source": [
    "# Vamos calcular a proporção das 3 classes DENTRO do grupo de sobreviventes\n",
    "\n",
    "# Filtrar o DataFrame para incluir apenas os sobreviventes\n",
    "survivors_df = df_train[df_train['Survived'] == 1]\n",
    "\n",
    "# Calcular a proporção de classe dentro do grupo de sobreviventes\n",
    "print(\"Proporção das 3 classes entre os Sobreviventes:\")\n",
    "print(survivors_df['Pclass'].value_counts(normalize=True))"
   ]
  },
  {
   "cell_type": "code",
   "execution_count": null,
   "id": "7ee2ac80",
   "metadata": {},
   "outputs": [
    {
     "name": "stdout",
     "output_type": "stream",
     "text": [
      "Proporção das 3 classes entre os não-Sobreviventes:\n",
      "Pclass\n",
      "3    0.677596\n",
      "2    0.176685\n",
      "1    0.145719\n",
      "Name: proportion, dtype: float64\n"
     ]
    }
   ],
   "source": [
    "# Vamos calcular a proporção das 3 classes DENTRO do grupo de não-sobreviventes\n",
    "\n",
    "# Filtrar o DataFrame para incluir apenas os não-sobreviventes\n",
    "survivors_df = df_train[df_train['Survived'] == 0]\n",
    "\n",
    "# Calcular a proporção de classe dentro do grupo de não-sobreviventes\n",
    "print(\"Proporção das 3 classes entre os não-Sobreviventes:\")\n",
    "print(survivors_df['Pclass'].value_counts(normalize=True))"
   ]
  },
  {
   "cell_type": "markdown",
   "id": "83c6ba05",
   "metadata": {},
   "source": [
    "### Insight Sobre a Relação entre Idade e Sobreviventes"
   ]
  },
  {
   "cell_type": "code",
   "execution_count": null,
   "id": "a355de3e",
   "metadata": {},
   "outputs": [
    {
     "data": {
      "image/png": "[encoded data removed]",
      "text/plain": [
       "<Figure size 640x480 with 1 Axes>"
      ]
     },
     "metadata": {},
     "output_type": "display_data"
    }
   ],
   "source": [
    "sns.histplot(data=df_train, x='Age', hue='Survived', kde=True)\n",
    "plt.title('Distribuição de Idade por Sobrevivência')\n",
    "plt.show()"
   ]
  },
  {
   "cell_type": "markdown",
   "id": "8f7b897d",
   "metadata": {},
   "source": [
    "### Insight Sobre a Relação entre Tarifa e Sobreviventes"
   ]
  },
  {
   "cell_type": "code",
   "execution_count": null,
   "id": "cb97d7ec",
   "metadata": {},
   "outputs": [
    {
     "data": {
      "image/png": "[encoded data removed]",
      "text/plain": [
       "<Figure size 640x480 with 1 Axes>"
      ]
     },
     "metadata": {},
     "output_type": "display_data"
    }
   ],
   "source": [
    "sns.histplot(data=df_train, x='Fare', hue='Survived', kde=True)\n",
    "plt.title('Distribuição de Tarifa por Sobrevivência')\n",
    "plt.show()"
   ]
  },
  {
   "cell_type": "code",
   "execution_count": null,
   "id": "a325a66d",
   "metadata": {},
   "outputs": [
    {
     "data": {
      "image/png": "[encoded data removed]",
      "text/plain": [
       "<Figure size 1000x600 with 1 Axes>"
      ]
     },
     "metadata": {},
     "output_type": "display_data"
    }
   ],
   "source": [
    "# Aplicar a transformação logarítmica à coluna 'Fare'\n",
    "# Criaremos uma nova coluna para armazenar a tarifa transformada, para manter a original.\n",
    "df_train['Fare_log'] = np.log1p(df_train['Fare'])\n",
    "\n",
    "# Gerar o histograma/KDE da nova coluna 'Fare_log' vs. 'Survived'\n",
    "plt.figure(figsize=(10, 6))\n",
    "sns.histplot(data=df_train, x='Fare_log', hue='Survived', kde=True, palette='viridis', alpha=0.7)\n",
    "plt.title('Distribuição da Tarifa (Transformada em Log) por Sobrevivência')\n",
    "plt.xlabel('Tarifa (log1p)')\n",
    "plt.ylabel('Contagem de Passageiros')\n",
    "plt.legend(title='Sobreviveu', labels=['Não', 'Sim'])\n",
    "plt.show()"
   ]
  },
  {
   "cell_type": "markdown",
   "id": "bc7e8aae",
   "metadata": {},
   "source": [
    "### Insight Sobre a Relação entre tamanho da familia e Sobreviventes"
   ]
  },
  {
   "cell_type": "code",
   "execution_count": null,
   "id": "6cb58834",
   "metadata": {},
   "outputs": [],
   "source": [
    "# Criando a coluna 'FamilySize'\n",
    "df_train['FamilySize'] = df_train['SibSp'] + df_train[\"Parch\"] + 1"
   ]
  },
  {
   "cell_type": "code",
   "execution_count": null,
   "id": "58dd4c00",
   "metadata": {},
   "outputs": [
    {
     "name": "stdout",
     "output_type": "stream",
     "text": [
      "Contagem de sobreviventes (1) e não-sobreviventes (0) por tamanho de família:\n",
      "FamilySize  Survived\n",
      "1           0           374\n",
      "            1           163\n",
      "2           1            89\n",
      "            0            72\n",
      "3           1            59\n",
      "            0            43\n",
      "4           1            21\n",
      "            0             8\n",
      "5           0            12\n",
      "            1             3\n",
      "6           0            19\n",
      "            1             3\n",
      "7           0             8\n",
      "            1             4\n",
      "8           0             6\n",
      "11          0             7\n",
      "Name: count, dtype: int64\n"
     ]
    }
   ],
   "source": [
    "# Calcular a contagem de sobreviventes e não-sobreviventes para cada tamanho de família\n",
    "print(\"Contagem de sobreviventes (1) e não-sobreviventes (0) por tamanho de família:\")\n",
    "print(df_train.groupby('FamilySize')['Survived'].value_counts())"
   ]
  },
  {
   "cell_type": "code",
   "execution_count": null,
   "id": "067c31b4",
   "metadata": {},
   "outputs": [
    {
     "name": "stdout",
     "output_type": "stream",
     "text": [
      "\n",
      "Proporção de sobreviventes (1) e não-sobreviventes (0) por tamanho de família:\n",
      "FamilySize  Survived\n",
      "1           0           0.696462\n",
      "            1           0.303538\n",
      "2           1           0.552795\n",
      "            0           0.447205\n",
      "3           1           0.578431\n",
      "            0           0.421569\n",
      "4           1           0.724138\n",
      "            0           0.275862\n",
      "5           0           0.800000\n",
      "            1           0.200000\n",
      "6           0           0.863636\n",
      "            1           0.136364\n",
      "7           0           0.666667\n",
      "            1           0.333333\n",
      "8           0           1.000000\n",
      "11          0           1.000000\n",
      "Name: proportion, dtype: float64\n"
     ]
    }
   ],
   "source": [
    "# Para ter uma visão mais completa, vamos também calcular a proporção\n",
    "print(\"\\nProporção de sobreviventes (1) e não-sobreviventes (0) por tamanho de família:\")\n",
    "print(df_train.groupby('FamilySize')['Survived'].value_counts(normalize=True))"
   ]
  },
  {
   "cell_type": "code",
   "execution_count": null,
   "id": "66bbcab2",
   "metadata": {},
   "outputs": [
    {
     "name": "stdout",
     "output_type": "stream",
     "text": [
      "Proporção de tamanho de família entre os Sobreviventes:\n",
      "FamilySize\n",
      "1    0.476608\n",
      "2    0.260234\n",
      "3    0.172515\n",
      "4    0.061404\n",
      "7    0.011696\n",
      "6    0.008772\n",
      "5    0.008772\n",
      "Name: proportion, dtype: float64\n"
     ]
    }
   ],
   "source": [
    "# Vamos calcular a proporção de tamanho de família DENTRO do grupo de sobreviventes\n",
    "\n",
    "# Filtrar o DataFrame para incluir apenas os sobreviventes\n",
    "survivors_df = df_train[df_train['Survived'] == 1]\n",
    "\n",
    "# Calcular a proporção de tamanho de família dentro do grupo de sobreviventes\n",
    "print(\"Proporção de tamanho de família entre os Sobreviventes:\")\n",
    "print(survivors_df['FamilySize'].value_counts(normalize=True))"
   ]
  },
  {
   "cell_type": "code",
   "execution_count": null,
   "id": "6fa7f59a",
   "metadata": {},
   "outputs": [
    {
     "name": "stdout",
     "output_type": "stream",
     "text": [
      "Proporção de tamanho de família entre os não-Sobreviventes:\n",
      "FamilySize\n",
      "1     0.681239\n",
      "2     0.131148\n",
      "3     0.078324\n",
      "6     0.034608\n",
      "5     0.021858\n",
      "7     0.014572\n",
      "4     0.014572\n",
      "11    0.012750\n",
      "8     0.010929\n",
      "Name: proportion, dtype: float64\n"
     ]
    }
   ],
   "source": [
    "# Vamos calcular a proporção de tamanho de família DENTRO do grupo de não-sobreviventes\n",
    "\n",
    "# Filtrar o DataFrame para incluir apenas os não-sobreviventes\n",
    "survivors_df = df_train[df_train['Survived'] == 0]\n",
    "\n",
    "# Calcular a proporção de tamanho de família dentro do grupo de não-sobreviventes\n",
    "print(\"Proporção de tamanho de família entre os não-Sobreviventes:\")\n",
    "print(survivors_df['FamilySize'].value_counts(normalize=True))"
   ]
  },
  {
   "cell_type": "code",
   "execution_count": null,
   "id": "c8884cfd",
   "metadata": {},
   "outputs": [
    {
     "data": {
      "image/png": "[encoded data removed]",
      "text/plain": [
       "<Figure size 640x480 with 1 Axes>"
      ]
     },
     "metadata": {},
     "output_type": "display_data"
    }
   ],
   "source": [
    "# Gerar o histograma/KDE da coluna 'FamilySize' vs. 'Survived'\n",
    "sns.histplot(data=df_train, x='FamilySize', hue='Survived', kde=True)\n",
    "plt.title('Distribuição de Tarifa por Sobrevivência')\n",
    "plt.show()"
   ]
  },
  {
   "cell_type": "code",
   "execution_count": null,
   "id": "8f354f58",
   "metadata": {},
   "outputs": [
    {
     "data": {
      "image/png": "[encoded data removed]",
      "text/plain": [
       "<Figure size 1000x600 with 1 Axes>"
      ]
     },
     "metadata": {},
     "output_type": "display_data"
    }
   ],
   "source": [
    "# Aplicar a transformação logarítmica à coluna 'FamilySize'\n",
    "# Criaremos uma nova coluna para armazenar a tarifa transformada, para manter a original.\n",
    "df_train['FamilySize_log'] = np.log1p(df_train['FamilySize'])\n",
    "\n",
    "# Gerar o histograma/KDE da nova coluna 'FamilySize_log' vs. 'Survived'\n",
    "plt.figure(figsize=(10, 6))\n",
    "sns.histplot(data=df_train, x='Fare_log', hue='Survived', kde=True, palette='viridis', alpha=0.7)\n",
    "plt.title('Distribuição da Tarifa (Transformada em Log) por Sobrevivência')\n",
    "plt.xlabel('Tarifa (log1p)')\n",
    "plt.ylabel('Contagem de Passageiros')\n",
    "plt.legend(title='Sobreviveu', labels=['Não', 'Sim'])\n",
    "plt.show()"
   ]
  },
  {
   "cell_type": "markdown",
   "id": "937b5e68",
   "metadata": {},
   "source": [
    "### Preparar Os Dados Para Modelagem"
   ]
  },
  {
   "cell_type": "code",
   "execution_count": null,
   "id": "9020fb44",
   "metadata": {},
   "outputs": [],
   "source": [
    "# Aplicar One-Hot Encoding na coluna \"Sex\"\n",
    "df_train_encoded = pd.get_dummies(\n",
    "    df_train, \n",
    "    prefix=None, \n",
    "    prefix_sep='_', \n",
    "    dummy_na=False, \n",
    "    columns=['Sex'], \n",
    "    sparse=False, \n",
    "    drop_first=False, \n",
    "    dtype=None)"
   ]
  },
  {
   "cell_type": "code",
   "execution_count": null,
   "id": "9051d257",
   "metadata": {},
   "outputs": [],
   "source": [
    "# Aplicar One-Hot Encoding na coluna \"Embarked\"\n",
    "df_train_encoded = pd.get_dummies(\n",
    "    df_train_encoded, \n",
    "    prefix=None, \n",
    "    prefix_sep='_', \n",
    "    dummy_na=False, \n",
    "    columns=['Embarked'], \n",
    "    sparse=False, \n",
    "    drop_first=False, \n",
    "    dtype=None)"
   ]
  },
  {
   "cell_type": "code",
   "execution_count": null,
   "id": "d7ba805a",
   "metadata": {},
   "outputs": [
    {
     "name": "stdout",
     "output_type": "stream",
     "text": [
      "   PassengerId  Survived  Pclass  \\\n",
      "0            1         0       3   \n",
      "1            2         1       1   \n",
      "2            3         1       3   \n",
      "3            4         1       1   \n",
      "4            5         0       3   \n",
      "\n",
      "                                                Name   Age  SibSp  Parch  \\\n",
      "0                            Braund, Mr. Owen Harris  22.0      1      0   \n",
      "1  Cumings, Mrs. John Bradley (Florence Briggs Th...  38.0      1      0   \n",
      "2                             Heikkinen, Miss. Laina  26.0      0      0   \n",
      "3       Futrelle, Mrs. Jacques Heath (Lily May Peel)  35.0      1      0   \n",
      "4                           Allen, Mr. William Henry  35.0      0      0   \n",
      "\n",
      "             Ticket     Fare  Fare_log  FamilySize  FamilySize_log  \\\n",
      "0         A/5 21171   7.2500  2.110213           2        1.098612   \n",
      "1          PC 17599  71.2833  4.280593           2        1.098612   \n",
      "2  STON/O2. 3101282   7.9250  2.188856           1        0.693147   \n",
      "3            113803  53.1000  3.990834           2        1.098612   \n",
      "4            373450   8.0500  2.202765           1        0.693147   \n",
      "\n",
      "   Sex_female  Sex_male  Embarked_C  Embarked_Q  Embarked_S  \n",
      "0       False      True       False       False        True  \n",
      "1        True     False        True       False       False  \n",
      "2        True     False       False       False        True  \n",
      "3        True     False       False       False        True  \n",
      "4       False      True       False       False        True  \n"
     ]
    }
   ],
   "source": [
    "# Exibir as 5 primeiras linhas do dataset modelado\n",
    "print(df_train_encoded.head())"
   ]
  },
  {
   "cell_type": "code",
   "execution_count": null,
   "id": "0542d754",
   "metadata": {},
   "outputs": [
    {
     "name": "stdout",
     "output_type": "stream",
     "text": [
      "<class 'pandas.core.frame.DataFrame'>\n",
      "RangeIndex: 891 entries, 0 to 890\n",
      "Data columns (total 17 columns):\n",
      " #   Column          Non-Null Count  Dtype  \n",
      "---  ------          --------------  -----  \n",
      " 0   PassengerId     891 non-null    int64  \n",
      " 1   Survived        891 non-null    int64  \n",
      " 2   Pclass          891 non-null    int64  \n",
      " 3   Name            891 non-null    object \n",
      " 4   Age             891 non-null    float64\n",
      " 5   SibSp           891 non-null    int64  \n",
      " 6   Parch           891 non-null    int64  \n",
      " 7   Ticket          891 non-null    object \n",
      " 8   Fare            891 non-null    float64\n",
      " 9   Fare_log        891 non-null    float64\n",
      " 10  FamilySize      891 non-null    int64  \n",
      " 11  FamilySize_log  891 non-null    float64\n",
      " 12  Sex_female      891 non-null    bool   \n",
      " 13  Sex_male        891 non-null    bool   \n",
      " 14  Embarked_C      891 non-null    bool   \n",
      " 15  Embarked_Q      891 non-null    bool   \n",
      " 16  Embarked_S      891 non-null    bool   \n",
      "dtypes: bool(5), float64(4), int64(6), object(2)\n",
      "memory usage: 88.0+ KB\n",
      "None\n"
     ]
    }
   ],
   "source": [
    "# Exibir informações gerais sobre o DataFrame modelado\n",
    "print(df_train_encoded.info())"
   ]
  },
  {
   "cell_type": "code",
   "execution_count": null,
   "id": "594fe890",
   "metadata": {},
   "outputs": [
    {
     "data": {
      "text/html": [
       "<div>\n",
       "<style scoped>\n",
       "    .dataframe tbody tr th:only-of-type {\n",
       "        vertical-align: middle;\n",
       "    }\n",
       "\n",
       "    .dataframe tbody tr th {\n",
       "        vertical-align: top;\n",
       "    }\n",
       "\n",
       "    .dataframe thead th {\n",
       "        text-align: right;\n",
       "    }\n",
       "</style>\n",
       "<table border=\"1\" class=\"dataframe\">\n",
       "  <thead>\n",
       "    <tr style=\"text-align: right;\">\n",
       "      <th></th>\n",
       "      <th>PassengerId</th>\n",
       "      <th>Survived</th>\n",
       "      <th>Pclass</th>\n",
       "      <th>Age</th>\n",
       "      <th>SibSp</th>\n",
       "      <th>Parch</th>\n",
       "      <th>Fare</th>\n",
       "      <th>Fare_log</th>\n",
       "      <th>FamilySize</th>\n",
       "      <th>FamilySize_log</th>\n",
       "    </tr>\n",
       "  </thead>\n",
       "  <tbody>\n",
       "    <tr>\n",
       "      <th>count</th>\n",
       "      <td>891.000000</td>\n",
       "      <td>891.000000</td>\n",
       "      <td>891.000000</td>\n",
       "      <td>891.000000</td>\n",
       "      <td>891.000000</td>\n",
       "      <td>891.000000</td>\n",
       "      <td>891.000000</td>\n",
       "      <td>891.000000</td>\n",
       "      <td>891.000000</td>\n",
       "      <td>891.000000</td>\n",
       "    </tr>\n",
       "    <tr>\n",
       "      <th>mean</th>\n",
       "      <td>446.000000</td>\n",
       "      <td>0.383838</td>\n",
       "      <td>2.308642</td>\n",
       "      <td>29.361582</td>\n",
       "      <td>0.523008</td>\n",
       "      <td>0.381594</td>\n",
       "      <td>32.204208</td>\n",
       "      <td>2.962246</td>\n",
       "      <td>1.904602</td>\n",
       "      <td>0.967890</td>\n",
       "    </tr>\n",
       "    <tr>\n",
       "      <th>std</th>\n",
       "      <td>257.353842</td>\n",
       "      <td>0.486592</td>\n",
       "      <td>0.836071</td>\n",
       "      <td>13.019697</td>\n",
       "      <td>1.102743</td>\n",
       "      <td>0.806057</td>\n",
       "      <td>49.693429</td>\n",
       "      <td>0.969048</td>\n",
       "      <td>1.613459</td>\n",
       "      <td>0.402669</td>\n",
       "    </tr>\n",
       "    <tr>\n",
       "      <th>min</th>\n",
       "      <td>1.000000</td>\n",
       "      <td>0.000000</td>\n",
       "      <td>1.000000</td>\n",
       "      <td>0.420000</td>\n",
       "      <td>0.000000</td>\n",
       "      <td>0.000000</td>\n",
       "      <td>0.000000</td>\n",
       "      <td>0.000000</td>\n",
       "      <td>1.000000</td>\n",
       "      <td>0.693147</td>\n",
       "    </tr>\n",
       "    <tr>\n",
       "      <th>25%</th>\n",
       "      <td>223.500000</td>\n",
       "      <td>0.000000</td>\n",
       "      <td>2.000000</td>\n",
       "      <td>22.000000</td>\n",
       "      <td>0.000000</td>\n",
       "      <td>0.000000</td>\n",
       "      <td>7.910400</td>\n",
       "      <td>2.187218</td>\n",
       "      <td>1.000000</td>\n",
       "      <td>0.693147</td>\n",
       "    </tr>\n",
       "    <tr>\n",
       "      <th>50%</th>\n",
       "      <td>446.000000</td>\n",
       "      <td>0.000000</td>\n",
       "      <td>3.000000</td>\n",
       "      <td>28.000000</td>\n",
       "      <td>0.000000</td>\n",
       "      <td>0.000000</td>\n",
       "      <td>14.454200</td>\n",
       "      <td>2.737881</td>\n",
       "      <td>1.000000</td>\n",
       "      <td>0.693147</td>\n",
       "    </tr>\n",
       "    <tr>\n",
       "      <th>75%</th>\n",
       "      <td>668.500000</td>\n",
       "      <td>1.000000</td>\n",
       "      <td>3.000000</td>\n",
       "      <td>35.000000</td>\n",
       "      <td>1.000000</td>\n",
       "      <td>0.000000</td>\n",
       "      <td>31.000000</td>\n",
       "      <td>3.465736</td>\n",
       "      <td>2.000000</td>\n",
       "      <td>1.098612</td>\n",
       "    </tr>\n",
       "    <tr>\n",
       "      <th>max</th>\n",
       "      <td>891.000000</td>\n",
       "      <td>1.000000</td>\n",
       "      <td>3.000000</td>\n",
       "      <td>80.000000</td>\n",
       "      <td>8.000000</td>\n",
       "      <td>6.000000</td>\n",
       "      <td>512.329200</td>\n",
       "      <td>6.240917</td>\n",
       "      <td>11.000000</td>\n",
       "      <td>2.484907</td>\n",
       "    </tr>\n",
       "  </tbody>\n",
       "</table>\n",
       "</div>"
      ],
      "text/plain": [
       "       PassengerId    Survived      Pclass         Age       SibSp  \\\n",
       "count   891.000000  891.000000  891.000000  891.000000  891.000000   \n",
       "mean    446.000000    0.383838    2.308642   29.361582    0.523008   \n",
       "std     257.353842    0.486592    0.836071   13.019697    1.102743   \n",
       "min       1.000000    0.000000    1.000000    0.420000    0.000000   \n",
       "25%     223.500000    0.000000    2.000000   22.000000    0.000000   \n",
       "50%     446.000000    0.000000    3.000000   28.000000    0.000000   \n",
       "75%     668.500000    1.000000    3.000000   35.000000    1.000000   \n",
       "max     891.000000    1.000000    3.000000   80.000000    8.000000   \n",
       "\n",
       "            Parch        Fare    Fare_log  FamilySize  FamilySize_log  \n",
       "count  891.000000  891.000000  891.000000  891.000000      891.000000  \n",
       "mean     0.381594   32.204208    2.962246    1.904602        0.967890  \n",
       "std      0.806057   49.693429    0.969048    1.613459        0.402669  \n",
       "min      0.000000    0.000000    0.000000    1.000000        0.693147  \n",
       "25%      0.000000    7.910400    2.187218    1.000000        0.693147  \n",
       "50%      0.000000   14.454200    2.737881    1.000000        0.693147  \n",
       "75%      0.000000   31.000000    3.465736    2.000000        1.098612  \n",
       "max      6.000000  512.329200    6.240917   11.000000        2.484907  "
      ]
     },
     "execution_count": 346,
     "metadata": {},
     "output_type": "execute_result"
    }
   ],
   "source": [
    "# Exibir estatísticas descritivas para as colunas numéricas\n",
    "df_train_encoded.describe()"
   ]
  },
  {
   "cell_type": "code",
   "execution_count": null,
   "id": "f967dc8b",
   "metadata": {},
   "outputs": [],
   "source": [
    "X_train, X_test, Y_train, Y_test = train_test_split(X, Y, test_size=0.2, random_state=42, stratify=Y)"
   ]
  },
  {
   "cell_type": "code",
   "execution_count": null,
   "id": "93bc10ec",
   "metadata": {},
   "outputs": [],
   "source": [
    "X_train, X_test, Y_train, Y_test = train_test_split(X, Y, test_size=0.2, random_state=42, stratify=Y)"
   ]
  },
  {
   "cell_type": "code",
   "execution_count": null,
   "id": "025a0d90",
   "metadata": {},
   "outputs": [],
   "source": [
    "# Escalonar os dados\n"
   ]
  }
 ],
 "metadata": {
  "kernelspec": {
   "display_name": "Python 3",
   "language": "python",
   "name": "python3"
  },
  "language_info": {
   "codemirror_mode": {
    "name": "ipython",
    "version": 3
   },
   "file_extension": ".py",
   "mimetype": "text/x-python",
   "name": "python",
   "nbconvert_exporter": "python",
   "pygments_lexer": "ipython3",
   "version": "3.12.10"
  }
 },
 "nbformat": 4,
 "nbformat_minor": 5
}
